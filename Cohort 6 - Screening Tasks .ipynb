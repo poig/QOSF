{
 "cells": [
  {
   "cell_type": "markdown",
   "id": "2188f942",
   "metadata": {},
   "source": [
    "## Task 1 Multiplier\n",
    "To make a multiplier, for this we design the input of two positive integers to a function and this function will process a quantum algorithm that makes the multiplier (see Draper adder) and returns the result in an integer.\n",
    "\n",
    "**you cannot use any implementation already designed by the framework**\n",
    "Bonus: \n",
    "\n",
    "Use your proposal to design different inputs, and check the limitations of your simulator and framework, consider number of qubits, time of execution, the depth of the quantum circuit and number of the gates.\n",
    "\n",
    "\n",
    "References:\n",
    "\n",
    "[1] Addition on a Quantum Computer https://arxiv.org/pdf/quant-ph/0008033.pdf  \n",
    "[2] T-count Optimized Design of Quantum Integer Multiplication https://arxiv.org/pdf/1706.05113.pdf  \n",
    "[3] Quantum arithmetic with the Quantum Fourier Transform https://arxiv.org/pdf/1411.5949.pdf"
   ]
  },
  {
   "cell_type": "code",
   "execution_count": 392,
   "id": "22e5e97c",
   "metadata": {},
   "outputs": [],
   "source": [
    "import sys\n",
    "from pennylane import numpy as np\n",
    "import pennylane as qml\n",
    "from typing import List, Optional, Union"
   ]
  },
  {
   "cell_type": "code",
   "execution_count": 2,
   "id": "09bbd74f",
   "metadata": {},
   "outputs": [],
   "source": [
    "def multiplier(number_1:int, number_2:int):\n",
    "    \"\"\"\n",
    "       number_1 : integer positive value that is the first parameter to the multiplier function,\n",
    "       number_2 : integer positive value that is the second parameter to the multiplier function.\n",
    "       Return the positive integer value of the multiplication between number_1 and number_2\n",
    "    \"\"\"\n",
    "    # use a framework that works with quantum circuits, qiskit, cirq, pennylane, etc. \n",
    "    # define a quantum circuit to convert the integer values in qubits, example bases encoding \n",
    "    # basis encoding: n bits are equals to a state of n qubits, example \n",
    "    # The integer value 3 convert to a binary string that is 11, the basis encoding is |11⟩\n",
    "\n",
    "    wires = range(len(\"{0:0b}\".format(number_1*number_2)))\n",
    "    dev = qml.device(\"default.qubit\", wires=wires, shots=1)\n",
    "    @qml.qnode(dev)\n",
    "    def test_circuit(m,n):\n",
    "        qml.QFT(wires=wires)\n",
    "        for i in range(n):\n",
    "            for i,j in zip(range(len(wires)),reversed(range(len(wires)))):\n",
    "                qml.PhaseShift(((2**(i+1))*m*np.pi/2**(len(wires))), wires=j)\n",
    "        qml.QFT(wires=wires).inv()\n",
    "        return qml.sample()\n",
    "    \n",
    "    # use the state of the art to check the possibles ways to design a multiplier\n",
    "\n",
    "    return int(''.join(str(x) for x in list(test_circuit(number_1,number_2).base)),2) # the result of the quantum circuit into an integer value\n"
   ]
  },
  {
   "cell_type": "code",
   "execution_count": 3,
   "id": "1a7f61e4",
   "metadata": {},
   "outputs": [
    {
     "name": "stdout",
     "output_type": "stream",
     "text": [
      "30\n"
     ]
    }
   ],
   "source": [
    "A = multiplier(5,6) \n",
    "print(A)\n",
    "#30"
   ]
  },
  {
   "cell_type": "markdown",
   "id": "5aac5ab0",
   "metadata": {},
   "source": [
    "## Task 2 Missing Number\n",
    "From a function that has as a parameter a vector of positive integers of size 2^n -1, which is missing a number, this vector can be disordered, to search for the missing number from a quantum circuit.\n",
    "\n",
    "Bonus: \n",
    "\n",
    "Which is the largest list that can be implemented? Identify it and describe the result\n",
    "\n",
    "References:\n",
    "\n",
    "[1] Deutsch, David, and Richard Jozsa. \"Rapid solution of problems by quantum computation.\" Proceedings of the Royal Society of London. Series A: Mathematical and Physical Sciences 439.1907 (1992): 553-558.  \n",
    "[2] Bernstein, Ethan, and Umesh Vazirani. \"Quantum complexity theory.\" SIAM Journal on computing 26.5 (1997): 1411-1473.  \n",
    "[3] Grover, Lov K. , \"A fast quantum mechanical algorithm for database search\", Proceedings of the 28th Annual ACM Symposium on the Theory of Computing (1996), arXiv:quant-ph/9605043"
   ]
  },
  {
   "cell_type": "code",
   "execution_count": 4,
   "id": "68d1b3ff",
   "metadata": {},
   "outputs": [],
   "source": [
    "from qiskit import QuantumCircuit, BasicAer, execute"
   ]
  },
  {
   "cell_type": "code",
   "execution_count": 333,
   "id": "baf47a23",
   "metadata": {},
   "outputs": [],
   "source": [
    "def missing_number(input_vector:Optional[Union[List,np.array, str]]):\n",
    "    \"\"\"\n",
    "       input_vector: List, array or string that contain integer values of size 2^n -1, where are missing a number to obtain all the number 2^n \n",
    "       \n",
    "       Return the positive integer value that is missing in the input.\n",
    "    \"\"\"\n",
    "    def diffusion_matrix(n_bits):\n",
    "        \"\"\"Return the diffusion matrix.\n",
    "        Returns: \n",
    "            array[float]: The matrix representation of the diffusion operator.\n",
    "        \"\"\"\n",
    "        I = np.eye(2**n_bits)\n",
    "        phi = 1/np.sqrt(2**n_bits) * np.ones(shape=2**n_bits)\n",
    "        return -(2 * np.outer(phi,phi) - I) \n",
    "    \n",
    "    def oracle(indices,q):\n",
    "        my_array = np.identity(2**q)\n",
    "        for i in indices:\n",
    "            my_array[i,i] = -1\n",
    "        return my_array\n",
    "    \n",
    "    #extra task: multiple determine missing number, but can't will raise error if missing over 2^n -1 number\n",
    "    q = int(np.ceil(np.sqrt(len(input_vector))))\n",
    "    qc = QuantumCircuit(q, q)\n",
    "    qc.h(range(q))\n",
    "    qc.unitary(oracle(list(map(int,list(input_vector))),q), range(q), label=\"oracle\")\n",
    "    qc.unitary(diffusion_matrix(q),range(q), label=\"diffusion\")\n",
    "    for i in range(q):\n",
    "        qc.measure(i,i)\n",
    "    #print(qc.draw())\n",
    "    \n",
    "    backend = BasicAer.get_backend('qasm_simulator')\n",
    "    job = execute(qc, backend)\n",
    "    sort_result = dict(sorted(job.result().get_counts().items(), key = lambda x: (x[1], x[0])))\n",
    "    return list(map(lambda x: int(x,2),list(sort_result.keys())[-(2**q-len(input_vector)):]))\n"
   ]
  },
  {
   "cell_type": "code",
   "execution_count": 342,
   "id": "78bb6732",
   "metadata": {},
   "outputs": [
    {
     "name": "stdout",
     "output_type": "stream",
     "text": [
      "3\n",
      "5\n"
     ]
    }
   ],
   "source": [
    "A =  missing_number([2,0,1])\n",
    "#print('A: ', *A, sep=\",\")\n",
    "print(A[0])\n",
    "#3\n",
    "\n",
    "B =  missing_number([0, 1, 2, 3, 4, 6, 7])\n",
    "#print('B: ', *B, sep=\",\")\n",
    "print(B[0])\n",
    "#5\n"
   ]
  },
  {
   "cell_type": "markdown",
   "id": "e2aface6",
   "metadata": {},
   "source": [
    "## Task 3 Mottonen state preparation\n",
    "Implement the Mottonen state preparation of any dataset you have for at most one 8-element vector.\n",
    "\n",
    "**you cannot use any implementation already designed by the framework**\n",
    "\n",
    "Bonus:   \n",
    "Consider a state vector of size 5,7,10 how you can implement a vector of size different to 2^n.  \n",
    "\n",
    "References:  \n",
    "[1] Transformation of quantum states using uniformly controlled rotations \n",
    "https://arxiv.org/pdf/quant-ph/0407010.pdf "
   ]
  },
  {
   "cell_type": "code",
   "execution_count": 388,
   "id": "71eb46a7",
   "metadata": {},
   "outputs": [
    {
     "ename": "NameError",
     "evalue": "name 'array' is not defined",
     "output_type": "error",
     "traceback": [
      "\u001b[1;31m---------------------------------------------------------------------------\u001b[0m",
      "\u001b[1;31mNameError\u001b[0m                                 Traceback (most recent call last)",
      "\u001b[1;32m<ipython-input-388-e8539fd7d75d>\u001b[0m in \u001b[0;36m<module>\u001b[1;34m\u001b[0m\n\u001b[1;32m----> 1\u001b[1;33m \u001b[1;32mdef\u001b[0m \u001b[0mstate_prep\u001b[0m\u001b[1;33m(\u001b[0m\u001b[0minput_vector\u001b[0m\u001b[1;33m:\u001b[0m\u001b[0mOptional\u001b[0m\u001b[1;33m[\u001b[0m\u001b[0mlist\u001b[0m\u001b[1;33m,\u001b[0m\u001b[0marray\u001b[0m\u001b[1;33m]\u001b[0m\u001b[1;33m)\u001b[0m\u001b[1;33m:\u001b[0m\u001b[1;33m\u001b[0m\u001b[1;33m\u001b[0m\u001b[0m\n\u001b[0m\u001b[0;32m      2\u001b[0m      \"\"\"\n\u001b[0;32m      3\u001b[0m         \u001b[0minput_vector\u001b[0m\u001b[1;33m:\u001b[0m \u001b[0mList\u001b[0m\u001b[1;33m,\u001b[0m \u001b[0marray\u001b[0m \u001b[0mthat\u001b[0m \u001b[0mcontain\u001b[0m \u001b[0mfloat\u001b[0m \u001b[0mvalues\u001b[0m \u001b[0mof\u001b[0m \u001b[0msize\u001b[0m \u001b[1;36m2\u001b[0m\u001b[1;33m^\u001b[0m\u001b[0mn\u001b[0m\u001b[1;33m\u001b[0m\u001b[1;33m\u001b[0m\u001b[0m\n\u001b[0;32m      4\u001b[0m         \u001b[0mReturn\u001b[0m \u001b[0mthe\u001b[0m  \u001b[0mmottomen\u001b[0m \u001b[0mstate\u001b[0m \u001b[0mpreparation\u001b[0m \u001b[0mof\u001b[0m \u001b[0mthe\u001b[0m \u001b[0minput_vector\u001b[0m\u001b[1;33m\u001b[0m\u001b[1;33m\u001b[0m\u001b[0m\n\u001b[0;32m      5\u001b[0m      \"\"\"\n",
      "\u001b[1;31mNameError\u001b[0m: name 'array' is not defined"
     ]
    }
   ],
   "source": [
    "def state_prep(input_dvector:Optional[list,array]):\n",
    "     \"\"\"\n",
    "        input_vector: List, array that contain float values of size 2^n\n",
    "        Return the  mottomen state preparation of the input_vector\n",
    "     \"\"\"\n",
    "\n",
    "    # use a framework that works with quantum circuits, qiskit, cirq, pennylane, etc. \n",
    "    \n",
    "    \n",
    "\n",
    "    # define a quantum circuit to convert the vector in a quantum circuit\n",
    "    # define the Mottonen state\n",
    "\n",
    "    # consider print your quantum circuit\n"
   ]
  },
  {
   "cell_type": "markdown",
   "id": "0a271cfc",
   "metadata": {},
   "source": [
    "## Task 4  sending files\n",
    "It uses the BB84 protocol to generate a key with which you are going to send a multimedia file (image) or video and this can be transferred from the quantum teleportation and deciphered with the same key. send the QOSF logo from folder mentee to folder mentor  \n",
    "\n",
    "**you cannot use any implementation already designed by the framework**  \n",
    "\n",
    "Download the QOSF logo, create a folder mentee and a folder mentor, in the mentee folder save the image of the QOSF logo.  Design a function called  send_file where you send the QOSF logo to the folder mentor.  \n",
    "\n",
    "Describe the process and explain the limitations, advantages of this process for security.  \n",
    "\n",
    "Bonus:  \n",
    "Try to use it on 2 different computers.  \n",
    "\n",
    "References\n",
    "[1] Simple Proof of Security of the BB84 Quantum Key Distribution Protocol\n",
    "https://arxiv.org/pdf/quant-ph/0003004.pdf\n"
   ]
  },
  {
   "cell_type": "code",
   "execution_count": null,
   "id": "7c525457",
   "metadata": {},
   "outputs": [],
   "source": [
    "def send_file(str: path, str:name,str:path_destionation):\n",
    "     \"\"\"\n",
    "        path: String value where is the local folder (mentee folder)\n",
    "        name: String for the file to send to the mentor folder, (the name of the QOSF logo)\n",
    "        Path_destionation: String value where is the destination folder (mentor folder)\n",
    "        Return is success or not\n",
    "     \"\"\"\n",
    "    # use a framework that works with quantum circuits, qiskit, cirq, pennylane, etc. \n",
    "    # define a quantum circuit to convert the image in a quantum circuit\n",
    "    # define the protocol BB84 and the quantum teleportation\n",
    "    # save the result in the destination folder.\n",
    "\n",
    "    # consider show the result in a folder and explain the process\n"
   ]
  },
  {
   "cell_type": "code",
   "execution_count": null,
   "id": "3b16799c",
   "metadata": {},
   "outputs": [],
   "source": []
  }
 ],
 "metadata": {
  "kernelspec": {
   "display_name": "base",
   "language": "python",
   "name": "base"
  },
  "language_info": {
   "codemirror_mode": {
    "name": "ipython",
    "version": 3
   },
   "file_extension": ".py",
   "mimetype": "text/x-python",
   "name": "python",
   "nbconvert_exporter": "python",
   "pygments_lexer": "ipython3",
   "version": "3.8.12"
  },
  "latex_envs": {
   "LaTeX_envs_menu_present": true,
   "autoclose": false,
   "autocomplete": true,
   "bibliofile": "biblio.bib",
   "cite_by": "apalike",
   "current_citInitial": 1,
   "eqLabelWithNumbers": true,
   "eqNumInitial": 1,
   "hotkeys": {
    "equation": "Ctrl-E",
    "itemize": "Ctrl-I"
   },
   "labels_anchors": false,
   "latex_user_defs": false,
   "report_style_numbering": false,
   "user_envs_cfg": false
  },
  "toc": {
   "base_numbering": 1,
   "nav_menu": {},
   "number_sections": true,
   "sideBar": true,
   "skip_h1_title": false,
   "title_cell": "Table of Contents",
   "title_sidebar": "Contents",
   "toc_cell": false,
   "toc_position": {},
   "toc_section_display": true,
   "toc_window_display": false
  }
 },
 "nbformat": 4,
 "nbformat_minor": 5
}
